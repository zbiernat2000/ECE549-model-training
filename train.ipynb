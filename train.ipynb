{
 "cells": [
  {
   "cell_type": "code",
   "execution_count": 1,
   "metadata": {
    "collapsed": true,
    "pycharm": {
     "name": "#%%\n"
    }
   },
   "outputs": [
    {
     "name": "stdout",
     "output_type": "stream",
     "text": [
      "[PhysicalDevice(name='/physical_device:GPU:0', device_type='GPU')]\n"
     ]
    },
    {
     "name": "stderr",
     "output_type": "stream",
     "text": [
      "2023-04-28 00:08:29.489644: I tensorflow/stream_executor/cuda/cuda_gpu_executor.cc:975] successful NUMA node read from SysFS had negative value (-1), but there must be at least one NUMA node, so returning NUMA node zero\n",
      "2023-04-28 00:08:29.493193: I tensorflow/stream_executor/cuda/cuda_gpu_executor.cc:975] successful NUMA node read from SysFS had negative value (-1), but there must be at least one NUMA node, so returning NUMA node zero\n",
      "2023-04-28 00:08:29.493326: I tensorflow/stream_executor/cuda/cuda_gpu_executor.cc:975] successful NUMA node read from SysFS had negative value (-1), but there must be at least one NUMA node, so returning NUMA node zero\n"
     ]
    }
   ],
   "source": [
    "import tensorflow as tf\n",
    "import numpy as np\n",
    "import matplotlib.pyplot as plt\n",
    "import pandas as pd\n",
    "import os\n",
    "from tensorflow.keras.preprocessing.image import ImageDataGenerator\n",
    "from sklearn.metrics import confusion_matrix\n",
    "from sklearn.metrics import confusion_matrix\n",
    "from sklearn.metrics import ConfusionMatrixDisplay\n",
    "import seaborn as sns\n",
    "from sklearn.metrics import  classification_report\n",
    "\n",
    "print(tf.config.list_physical_devices('GPU'))"
   ]
  },
  {
   "cell_type": "code",
   "execution_count": 2,
   "outputs": [
    {
     "name": "stdout",
     "output_type": "stream",
     "text": [
      "backward\n",
      "forward\n",
      "stop\n",
      "left\n",
      "right\n"
     ]
    }
   ],
   "source": [
    "#Load in data\n",
    "label_list = ['backward','forward','stop','left','right']\n",
    "img_dir = []\n",
    "labels = []\n",
    "\n",
    "def get_path_list(label):\n",
    "    print(label)\n",
    "    dir_path = 'data/{}'.format(label)\n",
    "    data = []\n",
    "    labels = []\n",
    "    for file in os.listdir(dir_path):\n",
    "        data.append(os.path.join(dir_path,file))\n",
    "        labels.append(label)\n",
    "    return data,labels\n",
    "\n",
    "def get_all_paths(label_list):\n",
    "    for label in label_list:\n",
    "        temp_data, temp_labels = get_path_list(label)\n",
    "        img_dir.extend(temp_data)\n",
    "        labels.extend(temp_labels)\n",
    "get_all_paths(label_list)"
   ],
   "metadata": {
    "collapsed": false,
    "pycharm": {
     "name": "#%%\n"
    }
   }
  },
  {
   "cell_type": "code",
   "execution_count": 3,
   "outputs": [
    {
     "data": {
      "text/plain": "(500, 500)"
     },
     "execution_count": 3,
     "metadata": {},
     "output_type": "execute_result"
    }
   ],
   "source": [
    "len(img_dir),len(labels)"
   ],
   "metadata": {
    "collapsed": false,
    "pycharm": {
     "name": "#%%\n"
    }
   }
  },
  {
   "cell_type": "code",
   "execution_count": 4,
   "outputs": [],
   "source": [
    "unsplit_data = {'Image':img_dir,'Label':labels}\n",
    "unsplit_data = pd.DataFrame(unsplit_data)"
   ],
   "metadata": {
    "collapsed": false,
    "pycharm": {
     "name": "#%%\n"
    }
   }
  },
  {
   "cell_type": "code",
   "execution_count": 5,
   "outputs": [
    {
     "name": "stdout",
     "output_type": "stream",
     "text": [
      "data/backward/06ca0e75-b6b4-4b97-9afe-a727b0143ea4.jpg\n",
      "data/backward/02e528ad-59fc-4757-9121-ffbfa44c485f.jpg\n",
      "data/backward/042fa723-00b9-463a-a91b-719e8c5a53c2.jpg\n",
      "data/backward/05703d63-4bd3-49b3-a236-e06d7dde5e58.jpg\n",
      "data/backward/04e82298-d2e3-4944-a6d5-67c4eefc4a80.jpg\n",
      "data/backward/00af742c-20c2-4f9e-a31a-4503ea86a8bb.jpg\n",
      "data/backward/02638b22-b4a8-44d3-b726-ad9858d1f1f5.jpg\n",
      "data/backward/066680a3-ffca-490e-943c-7938580b05f2.jpg\n",
      "data/backward/02dcafaa-4eec-4052-b014-a1d766fc47a5.jpg\n",
      "data/backward/039cb58d-d9bf-43a8-9cd0-a0fe460202c3.jpg\n",
      "data/backward/02db8bf6-3fd5-4d69-9e8d-640bc105b44c.jpg\n",
      "data/backward/00aa11ca-ec30-48f0-91da-bb717bdf8b57.jpg\n",
      "data/backward/00c77059-12b4-4334-93e5-545d100179fb.jpg\n",
      "data/backward/02887c7f-4bac-411b-aeae-172b2e3d01ef.jpg\n",
      "data/backward/00c6bd08-0c39-44d9-8d90-bc89df46316a.jpg\n",
      "data/backward/0598ef3e-2ea1-449a-9735-f4aa82d5ff2c.jpg\n",
      "data/backward/03a5f33c-28a9-440b-b184-81bda60999d6.jpg\n",
      "data/backward/04ea9e7b-7596-422b-b965-83db0b2c8059.jpg\n",
      "data/backward/01883f07-2dc8-4e88-b2da-01e7149b6029.jpg\n",
      "data/backward/002e5485-87dd-4b79-a9ef-c6a1d723e67b.jpg\n",
      "data/backward/06999615-2e93-4f3a-ab24-4538454b597d.jpg\n",
      "data/backward/04dc1bce-6a52-437d-821f-cf87eca59f13.jpg\n",
      "data/backward/02859656-e7e2-4e37-8d43-fa4eb2795f84.jpg\n",
      "data/backward/0109ef7a-a595-412d-8622-05c4cc5eca73.jpg\n",
      "data/backward/03edcf00-2b0d-4576-bab8-da2bb5da14e2.jpg\n",
      "data/backward/0182dc90-3c8f-46f1-8ebb-f7e40cedf8c7.jpg\n",
      "data/backward/002b80a7-3292-4202-9a25-d6c8aac83a1e.jpg\n",
      "data/backward/01f81861-93cc-402a-9a0b-1f16f1683b09.jpg\n",
      "data/backward/06c26e1e-4adb-41e8-a472-d53626255b1c.jpg\n",
      "data/backward/032e257f-54cc-461f-a148-cfca249111d5.jpg\n",
      "data/backward/05b2befb-c601-421c-b8c6-aee1cdc6125e.jpg\n",
      "data/backward/04fef263-5790-4e61-936b-64de8de07ac6.jpg\n",
      "data/backward/016a9ac0-9257-4bb6-8291-d4b206fd4fb9.jpg\n",
      "data/backward/02121efb-618f-4a71-9549-0f33b89f08b3.jpg\n",
      "data/backward/05386ed0-2716-4ee7-8231-b6470bf4de3b.jpg\n",
      "data/backward/00713c1a-007e-4651-bef5-09c4019f19c6.jpg\n",
      "data/backward/06bb328f-e737-4785-b9a7-de19d827d094.jpg\n",
      "data/backward/00481821-8795-4011-bc0a-67f99fa53cac.jpg\n",
      "data/backward/02fab015-7977-4a02-8bd8-5dae467afd28.jpg\n",
      "data/backward/0143a273-46c9-43a2-856e-79386a33e7ec.jpg\n",
      "data/backward/053a5762-c46d-4fe9-bbc5-f55f2bfb8bb4.jpg\n",
      "data/backward/0591321c-ff2d-480f-bb0d-0c9946a8faca.jpg\n",
      "data/backward/03118bdc-9b5d-4f0f-910a-43755d3e862a.jpg\n",
      "data/backward/0644de5a-1738-44ee-9399-5ca61dc05985.jpg\n",
      "data/backward/02ffb2f1-53f7-4f94-8c50-888adf888f22.jpg\n",
      "data/backward/0107f95c-635e-4038-ba08-e3ce5d4a44a8.jpg\n",
      "data/backward/03a5808e-789b-4e30-9f83-47c7ae748d7b.jpg\n",
      "data/backward/062704b2-58a6-42d6-866c-97a5564732f0.jpg\n",
      "data/backward/002df411-ccd1-4949-8540-11683821faa3.jpg\n",
      "data/backward/001c6f56-85cf-4e45-bfc1-1af53c0e501b.jpg\n",
      "data/backward/06629b4e-8975-44a9-9be2-67e48c8cc626.jpg\n",
      "data/backward/0537ae28-70c7-44ec-96c8-3d985a1cc48f.jpg\n",
      "data/backward/01ee26d8-fea6-4b81-9117-ddbdc68936d1.jpg\n",
      "data/backward/0653fa7b-f5c1-4b1e-a3b9-be64363c2d69.jpg\n",
      "data/backward/03128978-c17d-4af5-a9fd-c230ba41e608.jpg\n",
      "data/backward/04d83ce8-93af-4f57-a031-48a05a931b71.jpg\n",
      "data/backward/00e78371-4696-42e7-a6af-37bee20614cf.jpg\n",
      "data/backward/06b0fd08-aedc-4625-9787-d9f5129be574.jpg\n",
      "data/backward/0071b6c0-36d3-4221-a5a3-4409d6305db5.jpg\n",
      "data/backward/0279d968-00d3-4363-8694-0f4299b9a614.jpg\n",
      "data/backward/02bf8c95-abfc-4358-a3b0-caa71a8b32cf.jpg\n",
      "data/backward/056cf07d-31d0-4e2b-805a-69c1826bc45d.jpg\n",
      "data/backward/02015171-9f41-4eee-8956-c3e198d23de8.jpg\n",
      "data/backward/03ce7f66-2aec-41d0-a02e-527470249c6f.jpg\n",
      "data/backward/049130ea-36c7-460e-84cd-811fa0da431e.jpg\n",
      "data/backward/0401d6f5-ff79-4706-a7c3-3fba8c024cba.jpg\n",
      "data/backward/01f05cf2-fbf8-451d-b7b4-def80b698952.jpg\n",
      "data/backward/0361d2d9-a284-4a19-8790-9cfe5cc85083.jpg\n",
      "data/backward/012210d4-d9d4-423b-bb5a-d014c8e34832.jpg\n",
      "data/backward/0612d1a1-348b-48f4-b94f-9fa7c173853d.jpg\n",
      "data/backward/05a52f6e-4e8e-4d02-891f-8ff3913d1117.jpg\n",
      "data/backward/04225c04-1b83-4d80-ac3b-74b765c43d3e.jpg\n",
      "data/backward/00b957ea-701f-4315-bec3-d907da2f9aa8.jpg\n",
      "data/backward/00b64ffb-daf5-4e70-b28f-e837120a5e87.jpg\n",
      "data/backward/02613d4b-1fad-4f32-818a-aaccc0d39f7a.jpg\n",
      "data/backward/00a5fd8f-84e6-44df-ac84-f5bd4d4eb5ba.jpg\n",
      "data/backward/05037a97-c299-434a-b31a-06ca099ac1f7.jpg\n",
      "data/backward/05f94658-9709-4359-8698-2146238f9799.jpg\n",
      "data/backward/0279a7d3-2be1-4e66-b8a2-18fc175fc5a1.jpg\n",
      "data/backward/0323baad-9da9-4e82-afe7-70ce0fb6eb89.jpg\n",
      "data/backward/0362af28-3832-41b6-a7aa-01c8b9e3299a.jpg\n",
      "data/backward/03ccc0c2-35ac-46c1-961d-d494fc787fc9.jpg\n",
      "data/backward/0148cde9-a86d-47a3-a0bf-ca4659042aab.jpg\n",
      "data/backward/00d5944d-922c-4f56-bf60-2d9c4ade51a7.jpg\n",
      "data/backward/00a5bf41-da88-49cd-88b5-b7d0a4e6158f.jpg\n",
      "data/backward/01c586e2-c05c-4a10-bca5-c340f69b2443.jpg\n",
      "data/backward/053b79ff-31f2-4cd1-a14a-94aa0da3e0dd.jpg\n",
      "data/backward/0634cc03-455a-4608-b224-057189d5b740.jpg\n",
      "data/backward/03725111-5f59-4e87-854d-ba14b01c8606.jpg\n",
      "data/backward/01a32780-812b-4d8b-90b4-4f0fb902448b.jpg\n",
      "data/backward/0441a6cf-3f83-4a87-aa31-c875025ed065.jpg\n",
      "data/backward/03f250af-2699-442c-8f65-830c875acac1.jpg\n",
      "data/backward/04cbf7ed-8e5d-4979-9272-3c5585f77793.jpg\n",
      "data/backward/01c9313e-c0d5-446e-a454-3673d4bc7dae.jpg\n",
      "data/backward/04f93a8c-88d2-4666-882a-b65dac282aef.jpg\n",
      "data/backward/04ae3d20-2ba7-4001-af56-a6c5bfa341ab.jpg\n",
      "data/backward/05652b5e-a119-484d-8c94-d9fdfaccd9ba.jpg\n",
      "data/backward/03f2a288-e00f-4683-b41a-6a8f4296013a.jpg\n",
      "data/backward/01cd380c-9e4c-4cba-85e6-cf7e44cbfe5b.jpg\n",
      "data/backward/02dc8d48-79af-4249-a6fd-4fa3cd75d353.jpg\n",
      "data/forward/0565d072-43a3-4bd5-94a6-261967785dfa.jpg\n",
      "data/forward/084ec62d-b27e-4bb7-b836-975edb892a32.jpg\n",
      "data/forward/04a37951-611c-4404-bd5f-106c0bc2586a.jpg\n",
      "data/forward/00cda552-8720-4165-b2a7-1b5e539ba8b2.jpg\n",
      "data/forward/06f0d24b-5490-4bb4-9041-0e690acd3e90.jpg\n",
      "data/forward/06d66a9d-bfbd-4a8a-a0ff-6c0f7e641118.jpg\n",
      "data/forward/00bea9e7-add1-4cc3-b4bc-bcf234966a77.jpg\n",
      "data/forward/073503d5-918a-41f6-ae02-6a67e6c8de27.jpg\n",
      "data/forward/03dcd6c5-6f97-4cb8-8310-2bbaa3f7c6bb.jpg\n",
      "data/forward/05423551-c73d-4e91-aa45-a6446da873f3.jpg\n",
      "data/forward/0131e46b-a984-45d6-9e06-e750c58ad7fa.jpg\n",
      "data/forward/069f9cca-dca1-4ee0-97cb-13d507b0b48a.jpg\n",
      "data/forward/000484ab-5fd0-49b8-9253-23a22b71d7b1.jpg\n",
      "data/forward/050e7192-2e54-4f66-91af-5a6ac7a31dea.jpg\n",
      "data/forward/0583dd64-f274-4533-99b2-4c47bf562b30.jpg\n",
      "data/forward/042c535a-45fe-4c81-be1e-71a0b4348554.jpg\n",
      "data/forward/0651e2dc-b593-4007-bc06-2b7db9da0b18.jpg\n",
      "data/forward/060e140b-97a3-4700-94d1-e95c1ef598fb.jpg\n",
      "data/forward/085abd8c-bb77-49f0-a2f0-30164ae67441.jpg\n",
      "data/forward/052b7fcf-84c6-4fb4-aaca-9bb1cbb27c73.jpg\n",
      "data/forward/03f01bbe-2b82-4bc3-9b10-5afb83b1f260.jpg\n",
      "data/forward/06b88a7f-fb2c-464c-8c20-7612cfeed344.jpg\n",
      "data/forward/0445d444-dff5-42db-a7ec-dcac25faabde.jpg\n",
      "data/forward/06c45baf-365e-49ec-afc5-33bbbdc67aba.jpg\n",
      "data/forward/004ae8d7-e079-4665-a5cf-0d9b3fbc9398.jpg\n",
      "data/forward/035b7ce4-0521-4b5a-ae58-291b1e7c4644.jpg\n",
      "data/forward/057ef8cc-dc91-4455-a267-0a39b71faf51.jpg\n",
      "data/forward/07525e27-dfe9-4748-8431-06c73a7cfd03.jpg\n",
      "data/forward/04ba263b-3d25-4dc9-9918-7a6075280718.jpg\n",
      "data/forward/05b40519-a5e1-47fb-b68b-2c45c19b7805.jpg\n",
      "data/forward/0788f4c2-6e58-4f99-8228-8126aa124379.jpg\n",
      "data/forward/04f86251-9ed7-4161-8fce-dc8d5d68d897.jpg\n",
      "data/forward/01083636-1053-4abf-8b3a-f6f38b5491ce.jpg\n",
      "data/forward/00cf039d-fe5f-49cb-b158-aa437f6c568a.jpg\n",
      "data/forward/0100d24f-7881-465b-aed2-6a8d93ae2416.jpg\n",
      "data/forward/07fdd88e-180a-4311-aa44-52208a618918.jpg\n",
      "data/forward/04594c34-7c21-40e9-bdb9-932b5198bf8e.jpg\n",
      "data/forward/0487d1d7-2dac-48b6-979e-656c9dcf13f5.jpg\n",
      "data/forward/0266d308-b686-44d2-9633-3d7433b8a536.jpg\n",
      "data/forward/00bf711f-e2cc-4cb5-b0ac-573198cd6455.jpg\n",
      "data/forward/05b7f77a-971c-451a-9af1-92947e6227c2.jpg\n",
      "data/forward/04cbe892-abae-4813-a102-04e66526b3a4.jpg\n",
      "data/forward/0593b9f4-74a6-494f-95c4-f186ef10da57.jpg\n",
      "data/forward/01819d06-7d2d-4b03-b8d6-f4cba19f99e3.jpg\n",
      "data/forward/04ed14a5-5518-4df2-bf19-524d265ad747.jpg\n",
      "data/forward/05b2fd16-d43d-4e14-bfa6-cfb9d5706ef2.jpg\n",
      "data/forward/076e0e49-8129-49fb-86bd-2c260ddba632.jpg\n",
      "data/forward/07dfefcf-b667-497e-aac3-53a600dd7457.jpg\n",
      "data/forward/02f9cbb9-15bb-413e-a47d-ffc39189ebc5.jpg\n",
      "data/forward/0493f82c-1578-4acc-ba3e-4884b7c9783c.jpg\n",
      "data/forward/052f9ac6-c6f5-4674-98dc-b61897dbd1a1.jpg\n",
      "data/forward/03ff9362-2531-4900-8870-993c6231ae28.jpg\n",
      "data/forward/07cbe4bd-e5eb-4e20-a3af-9cfb55a833ff.jpg\n",
      "data/forward/048cb375-6ed6-42ce-ad37-032bba2cc27e.jpg\n",
      "data/forward/01be7af5-6529-480e-8727-b55a5608c863.jpg\n",
      "data/forward/020cd45b-a632-4bd1-b769-c66c8806fc00.jpg\n",
      "data/forward/073ed106-bc1b-446d-9223-379b4233b544.jpg\n",
      "data/forward/0583a7e4-d4a3-4a5a-bdd2-66ae2170279c.jpg\n",
      "data/forward/0435ef27-e7f2-40f3-abff-ccebf1b423f1.jpg\n",
      "data/forward/012d89fa-33f7-4922-932b-6971ce8a7a96.jpg\n",
      "data/forward/00dfdf77-4b8b-4213-80b7-16f2b492fe4d.jpg\n",
      "data/forward/01cab403-225e-4f97-a80c-1ff9de828beb.jpg\n",
      "data/forward/0545a256-7a74-4653-935e-273fd4c1f89c.jpg\n",
      "data/forward/051a711c-2d60-4e08-b86e-a3c6a7fdc73e.jpg\n",
      "data/forward/023bff3c-b953-4b7e-adc8-2dd8adf26a70.jpg\n",
      "data/forward/00f91ea6-5ff4-4a61-99dd-6035c19bd7e3.jpg\n",
      "data/forward/06bf18e1-3288-4647-9d3e-97f79d061392.jpg\n",
      "data/forward/0337edd6-1cb2-4093-a290-dc5f6f8ef2bd.jpg\n",
      "data/forward/0219dd8f-3c30-4afe-8397-8a53090bfb69.jpg\n",
      "data/forward/007e3be7-4095-469b-81aa-427c13454d77.jpg\n",
      "data/forward/029ad35c-610b-4389-8a5a-f5b7f676d19b.jpg\n",
      "data/forward/054993e9-b994-4809-b6b5-d959243b29a8.jpg\n",
      "data/forward/031a643e-ee00-4ecf-bada-daca0aa5c0c7.jpg\n",
      "data/forward/05a03461-338f-4b4e-9b41-06e0dd052f6c.jpg\n",
      "data/forward/06151a5f-c40b-4134-a081-420324c89942.jpg\n",
      "data/forward/05c5af2c-3035-47c1-bef9-7960e73f9fbb.jpg\n",
      "data/forward/04042884-b6f2-489d-86f0-95753a605f91.jpg\n",
      "data/forward/05c80991-7d6c-42cb-b8ba-528cd942ca23.jpg\n",
      "data/forward/04d93bd3-5d74-4c10-b8b3-80885219077c.jpg\n",
      "data/forward/002f1d76-250f-4322-b1c3-4dd4906780d4.jpg\n",
      "data/forward/062ba42e-035a-4088-adbd-bee3a08da9cb.jpg\n",
      "data/forward/01628eb2-125b-4a0d-958d-792d4ad61c5b.jpg\n",
      "data/forward/04378653-b318-43e4-8934-c05b2dfdfab2.jpg\n",
      "data/forward/026e78fd-899b-4bf2-8d8c-aa020e5f40e9.jpg\n",
      "data/forward/005762c1-ddc8-4ea3-becd-05f3ec326b03.jpg\n",
      "data/forward/03ff19aa-ea35-49c4-bd6e-ab5e915dac21.jpg\n",
      "data/forward/00b0135c-b2ed-439a-9bc1-8db448a0c451.jpg\n",
      "data/forward/01cd681c-a51b-493e-990e-d99ad96f63d0.jpg\n",
      "data/forward/08102c7e-abd4-4514-a73c-029fc2ad5415.jpg\n",
      "data/forward/076fc491-c8ca-4612-a9e8-bb46f432bf3c.jpg\n",
      "data/forward/03e40ec7-00c2-49b3-822d-e06ff51f6691.jpg\n",
      "data/forward/0824f2f9-c590-4b73-b9eb-d6d00fca791a.jpg\n",
      "data/forward/00bc44f3-0284-4a6a-892f-2131f68faf3d.jpg\n",
      "data/forward/05e18863-138d-481c-9196-2806664dce12.jpg\n",
      "data/forward/04a737d8-adad-452c-9ddd-9913e64677b7.jpg\n",
      "data/forward/02115e99-917a-4784-80a4-b0ae81f3f725.jpg\n",
      "data/forward/069c5f2d-ef83-4339-955f-8c661ce48ea2.jpg\n",
      "data/forward/00dd7dc8-343d-4e7a-90e4-fd11b42e126a.jpg\n",
      "data/forward/04f67146-3c0b-4b4a-9fa1-13b0b9a1b234.jpg\n",
      "data/forward/02ba56e8-c565-410d-9768-b556c6ef719e.jpg\n",
      "data/stop/02e6a642-5dd4-485e-8109-7f26c4c6cef2.jpg\n",
      "data/stop/02c8fe29-1eda-4277-96c3-fddde7010817.jpg\n",
      "data/stop/025abc10-f3ae-4fe1-b385-4654d0ddc2f8.jpg\n",
      "data/stop/01eb2913-90b8-472c-8b03-1698a75c9f30.jpg\n",
      "data/stop/02b9bdf4-007d-4e5e-ae7e-f1b35edf7602.jpg\n",
      "data/stop/01c8c817-dc63-4483-a3f8-4c9fdf23f562.jpg\n",
      "data/stop/02890265-6869-4490-98f0-069bf01b06be.jpg\n",
      "data/stop/018f48a1-f288-42ba-9b21-cd200d3d1fe1.jpg\n",
      "data/stop/00da9d0a-3c2b-4567-b062-efb14fb2338b.jpg\n",
      "data/stop/0024e456-a8d2-4bd0-872b-77145141039b.jpg\n",
      "data/stop/009784d3-a311-4a7a-8f87-92a215d36a4a.jpg\n",
      "data/stop/00d6f1ba-3f7b-4dbe-aa82-5ae6b75304d5.jpg\n",
      "data/stop/000da0f2-b764-44e9-94c9-3d2e5893d69e.jpg\n",
      "data/stop/028e5825-a2be-431c-83e6-9c06b72f9d6a.jpg\n",
      "data/stop/0284f933-22e4-4ad4-844e-64e11286e20f.jpg\n",
      "data/stop/02f7cfef-f807-4622-ab62-25ccdc34e35d.jpg\n",
      "data/stop/038d76ed-9d15-42f3-8a1c-78f4870addc5.jpg\n",
      "data/stop/038718c5-a206-4141-ae05-5b4c09ede062.jpg\n",
      "data/stop/01199159-9c1d-4034-a85d-209d6eeff14d.jpg\n",
      "data/stop/02d1a2a9-5129-4468-8196-60061849130f.jpg\n",
      "data/stop/03bc3f5f-ae3c-436e-9789-dbb15720a928.jpg\n",
      "data/stop/016d217d-6745-4439-a443-c3f4f4116a29.jpg\n",
      "data/stop/0322d3d9-ae02-49c1-8380-e96332d25c97.jpg\n",
      "data/stop/01c64760-02f4-4aa8-aad6-f2a388675ded.jpg\n",
      "data/stop/03ba4ad1-c554-4eaf-a273-be8c5acae854.jpg\n",
      "data/stop/01fcbb49-0295-44b6-aeea-3757745d6e4a.jpg\n",
      "data/stop/03ec2a83-bd86-45cc-b0b8-99b29ad29a5d.jpg\n",
      "data/stop/02884f7b-0788-42b3-a34f-cb71d29e1ac3.jpg\n",
      "data/stop/027f4247-fef3-40b1-8d54-fadab6659f44.jpg\n",
      "data/stop/004a59dd-34ce-43cf-b3c9-b6e42762ce60.jpg\n",
      "data/stop/00509e79-f0b8-41ac-9ccc-86f1f11d8079.jpg\n",
      "data/stop/00bfa92d-5b85-4993-9340-b223d15ace3c.jpg\n",
      "data/stop/01fb88bd-bb8c-46e7-89b9-031583bb22e8.jpg\n",
      "data/stop/02dd24ea-ab4b-4584-8adb-97ef93429077.jpg\n",
      "data/stop/03aa97dd-e1db-4a31-963b-3f8ca426d0f7.jpg\n",
      "data/stop/0397406f-2c61-4fe7-a770-0a940fd21ccf.jpg\n",
      "data/stop/0213d712-d3c5-4194-b82a-7047b152d766.jpg\n",
      "data/stop/0324107e-b958-4ab2-ac28-b3586ce95533.jpg\n",
      "data/stop/0115e737-7c43-4565-ad40-55f4fea7b6d1.jpg\n",
      "data/stop/0034c051-76d2-4243-9b99-113f2047f19d.jpg\n",
      "data/stop/011b22a5-191f-4a03-a425-ca6bd1d0f61c.jpg\n",
      "data/stop/010cd6f2-6b83-4966-a2b4-911730df1797.jpg\n",
      "data/stop/012d280f-4106-4ae6-ae5b-3b5bc6bd22ad.jpg\n",
      "data/stop/0343123a-fca4-4ce0-8491-b4b98bf2e7c9.jpg\n",
      "data/stop/001da38e-7ab1-405c-a9d8-fbaeb46b5faf.jpg\n",
      "data/stop/00178e16-e20c-4007-8114-1e8f5a001b3a.jpg\n",
      "data/stop/02c3a03b-0517-44b9-a457-72d7fc97f580.jpg\n",
      "data/stop/03a6ef72-a1ab-4b20-b2a9-103d48f2fbea.jpg\n",
      "data/stop/003f2700-fdf5-47c0-8f14-25f022d22d1d.jpg\n",
      "data/stop/017e6c4c-2945-485f-9c1b-1d39f00c524e.jpg\n",
      "data/stop/031a45f8-01d7-4c78-a805-7ee0ebed11d1.jpg\n",
      "data/stop/034bab50-9607-4800-9885-52eb6e0ca292.jpg\n",
      "data/stop/0082f2ef-46d9-416d-81b6-9c23e3f8df89.jpg\n",
      "data/stop/01804123-40d9-45c7-97a1-0954c940bd75.jpg\n",
      "data/stop/015c7450-7bf4-4667-afe2-0a86e4ee634c.jpg\n",
      "data/stop/024a6d53-eb47-4959-b4fd-7aef882fbb50.jpg\n",
      "data/stop/00d0a827-e4e1-4f74-99d8-b1880d06e5ee.jpg\n",
      "data/stop/00401c66-8f98-4988-b1df-4662209630c1.jpg\n",
      "data/stop/03a5acf2-a226-4f62-a2ff-2a6c507792d9.jpg\n",
      "data/stop/01880d3f-825b-4a38-9192-c4284aac37cd.jpg\n",
      "data/stop/0393a9ca-96ec-42d7-bf1a-0e34ff0696fc.jpg\n",
      "data/stop/03203ffc-42c5-4bea-a586-40114aa45ba5.jpg\n",
      "data/stop/014ef7eb-273d-4143-b77e-bbfd2bac0bf6.jpg\n",
      "data/stop/03ab6869-a809-4761-b2ef-44046fc4931c.jpg\n",
      "data/stop/02a06e54-e84f-4c49-9888-2fea966c9ac3.jpg\n",
      "data/stop/0260c4ca-e702-4994-b56e-1b50095d9e03.jpg\n",
      "data/stop/036d5d2a-1d05-4b94-8dee-9dcef7abcf55.jpg\n",
      "data/stop/03650a3b-6563-48f7-aa1f-d4fdf1c1dfd8.jpg\n",
      "data/stop/0252f974-88f4-430a-952f-951a2b7c4dd4.jpg\n",
      "data/stop/03f1a3f6-d17b-4690-988d-1dec1dfa9b6d.jpg\n",
      "data/stop/01340e0c-d05f-4459-b023-8afa3f3d5110.jpg\n",
      "data/stop/028c301a-7037-4858-a259-5ba845e95a3d.jpg\n",
      "data/stop/02d7d72c-5c8f-4916-b093-559a7ee695c7.jpg\n",
      "data/stop/008136f5-6c5b-4b5b-b98c-ab69214257a7.jpg\n",
      "data/stop/0328ec4b-d898-449f-8abd-d92f9d6b7003.jpg\n",
      "data/stop/01b92aaf-000c-4b70-b681-87964194f349.jpg\n",
      "data/stop/011b51e3-c1d5-4aa8-b7be-661f09179e6d.jpg\n",
      "data/stop/0011f3a6-80fb-42a3-9ae9-163114f5750b.jpg\n",
      "data/stop/01b1b4b5-6473-42fb-a68d-193da2923185.jpg\n",
      "data/stop/01c4f492-09ee-49e1-986b-e29086d7883c.jpg\n",
      "data/stop/0073e816-7b68-47da-8552-9297c6e417e8.jpg\n",
      "data/stop/03295279-7eb0-4746-b373-81944c80e802.jpg\n",
      "data/stop/032d79e5-b94c-4e12-a0e9-1c80a2f3ae0b.jpg\n",
      "data/stop/0030467f-b54a-405d-b274-7225972f804d.jpg\n",
      "data/stop/02c605b6-1991-4532-b583-d030158fd6f2.jpg\n",
      "data/stop/0353921c-71f6-4459-bf80-727fb113f19d.jpg\n",
      "data/stop/0213adeb-73f5-415f-9501-932d722757d2.jpg\n",
      "data/stop/00857019-2ed4-4723-9311-4654e8f1d03a.jpg\n",
      "data/stop/0010d045-051c-42b0-a322-02670867dd72.jpg\n",
      "data/stop/0284539c-d36e-4b1f-9ff0-4a80cdcb5972.jpg\n",
      "data/stop/003b73ea-beba-4bdc-bf65-fbabc5bbe168.jpg\n",
      "data/stop/02e37333-bacb-4bc2-8c20-e69da4b0ec1e.jpg\n",
      "data/stop/0078ace3-28c7-4bac-961d-7184977433cf.jpg\n",
      "data/stop/00443972-5f18-45ff-89bb-f382547d9256.jpg\n",
      "data/stop/0310aa7a-c449-48e7-a1ee-60863887d212.jpg\n",
      "data/stop/023dfbdd-e9ca-438f-b391-9b5c2bd7510c.jpg\n",
      "data/stop/02045b8a-fb75-4593-a692-b6dba12da0ee.jpg\n",
      "data/stop/01c18c3b-4be2-4e4f-bdf9-4e95da7829fb.jpg\n",
      "data/stop/02424736-1c51-4ae7-baa9-c08bc12f5ec3.jpg\n",
      "data/stop/010c2809-9193-4ce6-842b-0675733071bf.jpg\n",
      "data/left/014a0df0-892e-48e4-bb26-70e246f2cf2e.jpg\n",
      "data/left/04d82bef-04aa-42e4-b832-cb344204ae12.jpg\n",
      "data/left/03b38e1c-41f1-4354-bfad-17c6febe0006.jpg\n",
      "data/left/04f33079-2172-4d70-8664-f7fd599273cd.jpg\n",
      "data/left/01f4e491-ac86-4659-8b69-4cefa315238f.jpg\n",
      "data/left/026ea24a-25ca-48f7-bc91-52b2d64b42ae.jpg\n",
      "data/left/0337b2c2-f3fe-46d7-b41e-577f5bc1460e.jpg\n",
      "data/left/045b6ef5-972f-424e-bc24-a700bdf23254.jpg\n",
      "data/left/0154d31c-9e6e-47e0-a8e9-a858f3efb1c6.jpg\n",
      "data/left/046a2bea-e479-4ec2-9fa9-05d5a1e96755.jpg\n",
      "data/left/02d101f2-8f47-4083-b8a0-c1a1a3f76070.jpg\n",
      "data/left/059b45f4-3f1a-4de2-ad54-fa454817361a.jpg\n",
      "data/left/01937fc1-f704-4421-9d13-83f06633a4d5.jpg\n",
      "data/left/05d73a69-72c7-4fc7-892d-84034980dd8d.jpg\n",
      "data/left/03e9a038-40e0-4c83-a033-214f014ced1b.jpg\n",
      "data/left/02e163d4-9298-4614-a489-960b91ea232d.jpg\n",
      "data/left/0142a48d-8a6a-47cf-9cb0-e5df6c8ccea1.jpg\n",
      "data/left/06955f51-694b-49a4-8e83-8df3dc268c13.jpg\n",
      "data/left/040c1280-19ed-48f0-a0cf-506a5b293c3a.jpg\n",
      "data/left/0512ec67-512b-4554-a19d-f0b4ea57ecb4.jpg\n",
      "data/left/046e2442-e3ef-4fa8-94e4-abb55f743e7d.jpg\n",
      "data/left/05210ce0-ef4d-4f43-b832-35166e10b403.jpg\n",
      "data/left/03ac5380-8674-41da-844b-dc1946f04e3e.jpg\n",
      "data/left/0309f9af-9cf7-4f78-985d-b0315674d583.jpg\n",
      "data/left/01197ad5-3116-4b67-9871-f533cdd21d5a.jpg\n",
      "data/left/0479e8fc-993f-4f53-8eaa-9f5adb5065b7.jpg\n",
      "data/left/0459508e-6be3-4494-939c-cf74fa0c9c29.jpg\n",
      "data/left/00a9bb8b-a484-486f-8c9f-a815d21cfb10.jpg\n",
      "data/left/03b90a1c-0c5c-4d3d-93d2-cfbfabf5fd0f.jpg\n",
      "data/left/02bc7606-3f59-4d00-84c9-9c2141c0541f.jpg\n",
      "data/left/053d997a-7210-4fb8-a794-9eb91a8b5bf9.jpg\n",
      "data/left/05fec3e8-39f7-493d-bc70-58df604fd95c.jpg\n",
      "data/left/00fecf4f-1823-4e02-ab34-c9fa6c6a79f5.jpg\n",
      "data/left/0224bb42-b2e7-449c-8f2b-92b94ed368b8.jpg\n",
      "data/left/02eb1928-9836-4ca6-b8e4-7e793fb29d86.jpg\n",
      "data/left/01a20793-35c5-4e55-903f-34b5a0ac993e.jpg\n",
      "data/left/04a5e8d6-70f2-45ae-aac5-b8c69cd92fc6.jpg\n",
      "data/left/0313c156-c22d-402e-891f-a4e6511e6427.jpg\n",
      "data/left/00f99e94-2386-4f84-9b46-464d1a0531a2.jpg\n",
      "data/left/016c021f-d855-450f-abf6-ad26951033dc.jpg\n",
      "data/left/018dc44b-198a-4735-abf7-2153b1226da0.jpg\n",
      "data/left/052370b7-c1d9-4607-a430-8c4234b2febd.jpg\n",
      "data/left/04d0c305-4775-4905-9bab-92ffb17bfcc6.jpg\n",
      "data/left/01767505-d1a7-4f81-a8da-9df63c202694.jpg\n",
      "data/left/035683d3-55bc-4ac7-9fd6-6e236efde9d1.jpg\n",
      "data/left/0256ffd3-f1c7-4520-8bb5-fe7bdb0c018d.jpg\n",
      "data/left/00c45722-a11f-4d81-8e69-0c6ac081dc88.jpg\n",
      "data/left/009c6c68-7115-46b6-a276-2fc385da4d38.jpg\n",
      "data/left/031d227a-7c95-499d-9e55-ade28d7e6f57.jpg\n",
      "data/left/03a52a97-70aa-484d-90e6-507eb2443a43.jpg\n",
      "data/left/063e7109-50d6-402b-9019-16f010c1ccba.jpg\n",
      "data/left/00c6d88a-952b-4efc-bb01-040a20dcb7da.jpg\n",
      "data/left/0297fdcd-966b-4e88-8c08-adc69f512bf6.jpg\n",
      "data/left/02afd5dc-d489-4b81-8073-032a6dd8c5ca.jpg\n",
      "data/left/060fc025-15e8-4cce-bfd5-c01c909e5525.jpg\n",
      "data/left/0379c43f-440d-4106-a31d-a9d792d0600a.jpg\n",
      "data/left/05092e30-6f98-41f4-b2f6-e4da8278f8ef.jpg\n",
      "data/left/03bb5ecf-2933-48f1-adbc-f34b8eee6f52.jpg\n",
      "data/left/068ba7f6-c635-4391-9e7d-06128ccccca1.jpg\n",
      "data/left/02b942fe-b8c5-4162-976d-38870da86c39.jpg\n",
      "data/left/034039c1-70b3-4730-9250-91619c45210c.jpg\n",
      "data/left/02ffc536-5477-493c-a0f7-e84d2120f04e.jpg\n",
      "data/left/0298ab0c-df73-4ed5-aa95-5094b4c9bb4f.jpg\n",
      "data/left/03eb7a30-1c18-4f7f-81d8-fbd56fe017ee.jpg\n",
      "data/left/011e271d-2d04-47eb-a46c-2bf049445ef7.jpg\n",
      "data/left/011c9eb8-2d8b-484c-976e-73f80492056f.jpg\n",
      "data/left/011f0406-c89a-480d-8bb5-bc2ead6bd586.jpg\n",
      "data/left/03e3c21a-dfff-4b9e-9421-ef9ac01040ca.jpg\n",
      "data/left/066be32e-4045-48c5-9aad-0165ff7282f5.jpg\n",
      "data/left/0612fd35-c0a7-454e-be8d-ea19fa13266a.jpg\n",
      "data/left/03ff985e-8842-48e4-a42f-3d4cb760934d.jpg\n",
      "data/left/04c6f15a-2c55-4d75-a015-dc8ac89c75f8.jpg\n",
      "data/left/056f5699-3cd0-4cd3-875c-56931e21ace4.jpg\n",
      "data/left/06501ae5-ddc0-4df8-a0e5-b7044615b686.jpg\n",
      "data/left/0689a391-30c0-468c-8572-37f2d88d485f.jpg\n",
      "data/left/02638d7e-ab64-45be-ad87-53fb0ac34762.jpg\n",
      "data/left/00bc0875-0b14-4db3-b718-2a6db1552cb2.jpg\n",
      "data/left/00ac6dfd-4e4c-40ac-9a16-1f411b4bb7f6.jpg\n",
      "data/left/0350fca2-4934-47f9-891b-12ed6e0e89be.jpg\n",
      "data/left/04a8793e-3ffb-43c0-b7d3-d75b90ce9b1c.jpg\n",
      "data/left/005123bb-8aef-4b85-900d-804bbe9dcb85.jpg\n",
      "data/left/03094c0a-499c-4daa-8ffd-a2911c0561d0.jpg\n",
      "data/left/0054b557-8222-4ed7-9ef1-996d4dcf3648.jpg\n",
      "data/left/01d4e5dd-ec87-49f2-9d82-b9c8b7fae70a.jpg\n",
      "data/left/03f0d69f-9351-4178-a766-7e83dcb4519a.jpg\n",
      "data/left/00abc378-a59c-4323-9f03-69395dd240ff.jpg\n",
      "data/left/0427b250-a020-4578-aeb8-e2d546dd38ee.jpg\n",
      "data/left/05b56ad9-6742-4465-a6ce-ce7fa786014a.jpg\n",
      "data/left/00a0f6b1-11af-410c-a838-b7cf38b6cc88.jpg\n",
      "data/left/004d1cba-d098-4c66-ae06-4ea68de6578f.jpg\n",
      "data/left/00e9c9dc-fbd5-4b2c-809b-648686664281.jpg\n",
      "data/left/04130e7e-1b9e-4aa0-a3b1-db715b6ee93c.jpg\n",
      "data/left/00356894-7044-4534-b38c-6cfb36158695.jpg\n",
      "data/left/02096c62-3893-4a29-95b5-959728afd77d.jpg\n",
      "data/left/05e7957d-a436-4a7a-bde0-8f567d9b1851.jpg\n",
      "data/left/0111e4e2-847b-46f4-99c5-0c8c43e3fa1b.jpg\n",
      "data/left/05b1c7c7-7d59-411c-88da-05862f4b9952.jpg\n",
      "data/left/02b382be-6523-4322-8e19-50fc196288e5.jpg\n",
      "data/left/0087cb03-5b59-4a4f-8248-9d235024ac28.jpg\n",
      "data/left/043f1e6d-f1f8-4180-a241-bceda4bca62a.jpg\n",
      "data/right/0035fcf9-da92-4167-a914-8cf6ac753160.jpg\n",
      "data/right/07eb3863-6caa-40e5-a7b2-162014d02c3f.jpg\n",
      "data/right/054623d0-7998-487c-9bd2-4ed9a431f3c9.jpg\n",
      "data/right/022316eb-4858-4077-8032-d85fce03bf1f.jpg\n",
      "data/right/0541ebd7-79f1-4fa6-af58-5e6e78dc9e33.jpg\n",
      "data/right/077473f2-c6f5-49a4-9a65-8c56723a0c49.jpg\n",
      "data/right/05fe4c51-43c2-4749-9f02-8043a66481e4.jpg\n",
      "data/right/010264ee-8689-4732-8796-3dc4f05bd659.jpg\n",
      "data/right/064ba466-ecde-4897-a13d-decca23c0d7d.jpg\n",
      "data/right/06a11bff-1ab9-4941-bf58-a6c1d9232f7f.jpg\n",
      "data/right/035e96f6-4e47-467f-9d33-5ed09203ddd4.jpg\n",
      "data/right/036cff95-b570-4d6d-9c18-475e01831527.jpg\n",
      "data/right/068fef3b-3aac-4238-95ea-34c1f48a72aa.jpg\n",
      "data/right/01932a51-ac81-4fde-9e62-d70c79def69f.jpg\n",
      "data/right/06856d23-2213-461d-a504-b19c7ca15967.jpg\n",
      "data/right/02c295ab-548e-4339-8f1f-c54f6baaaca5.jpg\n",
      "data/right/0403a3a7-d2c5-4db4-940f-2f47e78e27a6.jpg\n",
      "data/right/005819fc-7939-4fb1-bbdb-30d3b05726c0.jpg\n",
      "data/right/06a41c67-754a-43d6-b39f-7753cf40d110.jpg\n",
      "data/right/03faaaf7-e2a8-4c29-9f99-d69b40bd324e.jpg\n",
      "data/right/02aecf1e-2724-40f6-8a59-5dfd307e0d34.jpg\n",
      "data/right/02bd891b-ba1e-40bd-a9ba-a8620c00aa3f.jpg\n",
      "data/right/068a9650-dd35-41b7-bd2b-58978159e7da.jpg\n",
      "data/right/03727ef5-f701-42c6-951f-6c1e4d645358.jpg\n",
      "data/right/03113277-7aa8-4041-af4a-c294344830d1.jpg\n",
      "data/right/02ca9b3b-d3d2-4dfd-b38a-fd8412c006a5.jpg\n",
      "data/right/031684a6-29bb-426e-8914-302278666570.jpg\n",
      "data/right/05f0116f-094f-4062-aca0-6789ad40b846.jpg\n",
      "data/right/05939c7d-e7f6-4fc2-8a15-f79c09a5c9fa.jpg\n",
      "data/right/07394233-d3df-48dd-80de-60749920c67e.jpg\n",
      "data/right/01188b38-1f61-4e7d-ae2b-ce89279d99f6.jpg\n",
      "data/right/04d91ea6-4f5f-49ee-9138-e260a0dffa1b.jpg\n",
      "data/right/02059325-0356-448d-acd4-53baeb5816c8.jpg\n",
      "data/right/062b0c5d-e05b-4b2e-9aab-2f098bb53cd4.jpg\n",
      "data/right/0671beb1-2eec-4635-ad4c-e84c412fcedb.jpg\n",
      "data/right/0254066e-45c7-4f2c-a33f-c33f24f2d71c.jpg\n",
      "data/right/06d5a1dd-1867-41a6-ad7c-60d3bfc4dc7f.jpg\n",
      "data/right/0381336c-27ee-4036-9b14-bd1519733863.jpg\n",
      "data/right/00b5aa33-5c4c-4cbf-af40-79b9e9cfc1ea.jpg\n",
      "data/right/0477a66a-53ae-4138-982b-c33cf05b3ab1.jpg\n",
      "data/right/003a238e-6ea2-48b0-ad4c-462f9dc655df.jpg\n",
      "data/right/018f74c8-2ce6-40e4-9b8e-8a114a7dad56.jpg\n",
      "data/right/006a26a3-12d2-411b-b980-0345365b560a.jpg\n",
      "data/right/05383de6-3220-44c6-a10b-b05a7a8b364e.jpg\n",
      "data/right/044c5cff-6b7a-415b-852e-a8f8fb0b8b39.jpg\n",
      "data/right/024b2565-e632-42f6-916b-f8435586435d.jpg\n",
      "data/right/01a4471f-e84a-4985-89df-64b77b112359.jpg\n",
      "data/right/015cb78e-329b-45df-ad85-574da50ab4f6.jpg\n",
      "data/right/0567d5bd-69d6-4efb-99bf-e1df9887669d.jpg\n",
      "data/right/014c47c8-5631-4e87-b82c-741eaaf6d12b.jpg\n",
      "data/right/010123b0-e889-498f-b3d9-fa85a91d6c2c.jpg\n",
      "data/right/01d3dbd9-b391-4167-9e44-9f0d00bcedb3.jpg\n",
      "data/right/03f737d9-6a5d-423c-9118-79c0f088afdd.jpg\n",
      "data/right/0480aa8b-deb9-4c35-9920-25e7480672c5.jpg\n",
      "data/right/05ba80ab-e6e5-4812-8edf-c56b4565ca14.jpg\n",
      "data/right/02b06b98-5783-4a70-a3ad-fbe3ac627b05.jpg\n",
      "data/right/024a0d05-c626-4dcb-aeac-7d1cd6ebe065.jpg\n",
      "data/right/04c22dcf-7659-4232-ab4c-7a2233ef380f.jpg\n",
      "data/right/054d8c29-ea57-4a29-bc31-d3a4d6f938a0.jpg\n",
      "data/right/0329ab93-5b22-447c-bcd0-fbd50dabf6c0.jpg\n",
      "data/right/05d41ba2-3745-48a4-b783-4f30a898aec0.jpg\n",
      "data/right/04439767-306b-4db5-b8eb-31db36dfb6ba.jpg\n",
      "data/right/010535a4-43ef-43dc-bce2-ea292f513ef0.jpg\n",
      "data/right/0453b63a-8cf9-4b64-894b-e57dc07c5306.jpg\n",
      "data/right/063bb81b-8890-4687-84e8-b4968b7e69cb.jpg\n",
      "data/right/0153a688-8dbf-4b2c-86a9-89f21a9ba276.jpg\n",
      "data/right/080ae570-0229-4497-a2d6-db286ee14813.jpg\n",
      "data/right/07113fb9-c714-49f2-855c-d68d08737bb5.jpg\n",
      "data/right/04b8c795-0815-4cff-bcbc-d10996df3b7f.jpg\n",
      "data/right/0237b8e9-f8e8-4fb5-bc74-69d3be5cf2bc.jpg\n",
      "data/right/0683f64b-c14b-4416-8e28-80e9dcf09ecf.jpg\n",
      "data/right/029829f5-e9ca-4011-b4d1-1736c27df1d8.jpg\n",
      "data/right/01cb61ac-5e2a-4c7a-ba0e-fa18197352f4.jpg\n",
      "data/right/072edfbe-2400-4af2-91dd-d8ab668a17a3.jpg\n",
      "data/right/00fd8914-530c-43b7-9b76-b457caed0160.jpg\n",
      "data/right/057c366c-78db-4b22-88db-853779fd5863.jpg\n",
      "data/right/02af3cf6-a829-43ec-b784-8db4bdd1cde8.jpg\n",
      "data/right/018c4815-3f0d-47c2-905a-a72de9420e25.jpg\n",
      "data/right/02b414f7-5d17-47fd-82b1-7b9c236906dd.jpg\n",
      "data/right/06c958d4-88bd-4946-9632-151c7f7a91c4.jpg\n",
      "data/right/03f74f79-646a-4f08-a3f7-03778572e2c3.jpg\n",
      "data/right/0720d489-2404-4806-8f3e-f77558a1399e.jpg\n",
      "data/right/06bd4b76-30f6-4d0b-940f-fa5ae800e503.jpg\n",
      "data/right/040dd323-4e5a-44db-9ceb-4e4b1ff58e65.jpg\n",
      "data/right/01cd940f-d31c-49f6-87a4-dd1f25d73c74.jpg\n",
      "data/right/05d584eb-f72d-436a-897e-a28c8478ca6f.jpg\n",
      "data/right/036e9412-d2f8-4704-a89e-521770664ed1.jpg\n",
      "data/right/07bbb77f-7720-441e-a521-aacc42736794.jpg\n",
      "data/right/078f509f-e8ba-43ff-b0e5-5c40192c945e.jpg\n",
      "data/right/069ce1c5-70fb-4dbf-8f7b-83a4037e79c2.jpg\n",
      "data/right/065fbc48-ff88-4d69-9716-c85b8eb4f34f.jpg\n",
      "data/right/02a809c0-8c0a-4ded-8ac8-f72ed2b107a8.jpg\n",
      "data/right/013a91b7-367b-4e42-af01-316a70e1cc2b.jpg\n",
      "data/right/00f33929-6855-46b7-93db-4a3d86c91b50.jpg\n",
      "data/right/05793ec6-d810-4795-ae03-a85bde5b29a3.jpg\n",
      "data/right/05f3f0d3-928f-48c8-ae41-9603aa08c1cf.jpg\n",
      "data/right/0486fc54-da2a-4f5d-8e10-3aca59b0f378.jpg\n",
      "data/right/0192db8f-e734-4fb1-b7b1-5f2a73467432.jpg\n",
      "data/right/00c9eb88-34c5-4350-b594-d30659ffb01c.jpg\n",
      "data/right/0164d37f-3b98-4434-948f-0ed27a45dd92.jpg\n"
     ]
    }
   ],
   "source": [
    "for i in unsplit_data['Image']:\n",
    "    print(i)"
   ],
   "metadata": {
    "collapsed": false,
    "pycharm": {
     "name": "#%%\n"
    }
   }
  },
  {
   "cell_type": "code",
   "execution_count": 6,
   "outputs": [
    {
     "data": {
      "text/plain": "backward    100\nforward     100\nstop        100\nleft        100\nright       100\nName: Label, dtype: int64"
     },
     "execution_count": 6,
     "metadata": {},
     "output_type": "execute_result"
    }
   ],
   "source": [
    "unsplit_data['Label'].value_counts()"
   ],
   "metadata": {
    "collapsed": false,
    "pycharm": {
     "name": "#%%\n"
    }
   }
  },
  {
   "cell_type": "code",
   "execution_count": 7,
   "outputs": [],
   "source": [
    "#Split data into 80,10,10\n",
    "\n",
    "from sklearn.model_selection import train_test_split\n",
    "x_train,x_val,y_train,y_val = train_test_split(unsplit_data['Image'],unsplit_data['Label'],test_size=.2,random_state=42)"
   ],
   "metadata": {
    "collapsed": false,
    "pycharm": {
     "name": "#%%\n"
    }
   }
  },
  {
   "cell_type": "code",
   "execution_count": 8,
   "outputs": [],
   "source": [
    "unsplit_data = {'Image':x_val,'Label':y_val}\n",
    "unsplit_data = pd.DataFrame(unsplit_data)\n",
    "x_val,x_test,y_val,y_test = train_test_split(unsplit_data['Image'],unsplit_data['Label'],test_size=.5,random_state=42)\n",
    "\n",
    "train_gen = pd.DataFrame({'Image':x_train,'Label':y_train})\n",
    "val_gen = pd.DataFrame({'Image':x_val,'Label':y_val})\n",
    "test_gen = pd.DataFrame({'Image':x_test,'Label':y_test})\n",
    "val_gen = pd.DataFrame({'Image':x_val,'Label':y_val})\n"
   ],
   "metadata": {
    "collapsed": false,
    "pycharm": {
     "name": "#%%\n"
    }
   }
  },
  {
   "cell_type": "code",
   "execution_count": 9,
   "outputs": [
    {
     "data": {
      "text/plain": "                                                 Image     Label\n249  data/stop/017e6c4c-2945-485f-9c1b-1d39f00c524e...      stop\n433  data/right/062b0c5d-e05b-4b2e-9aab-2f098bb53cd...     right\n19   data/backward/002e5485-87dd-4b79-a9ef-c6a1d723...  backward\n322  data/left/03ac5380-8674-41da-844b-dc1946f04e3e...      left\n332  data/left/00fecf4f-1823-4e02-ab34-c9fa6c6a79f5...      left\n..                                                 ...       ...\n106  data/forward/00bea9e7-add1-4cc3-b4bc-bcf234966...   forward\n270  data/stop/01340e0c-d05f-4459-b023-8afa3f3d5110...      stop\n348  data/left/031d227a-7c95-499d-9e55-ade28d7e6f57...      left\n435  data/right/0254066e-45c7-4f2c-a33f-c33f24f2d71...     right\n102  data/forward/04a37951-611c-4404-bd5f-106c0bc25...   forward\n\n[400 rows x 2 columns]",
      "text/html": "<div>\n<style scoped>\n    .dataframe tbody tr th:only-of-type {\n        vertical-align: middle;\n    }\n\n    .dataframe tbody tr th {\n        vertical-align: top;\n    }\n\n    .dataframe thead th {\n        text-align: right;\n    }\n</style>\n<table border=\"1\" class=\"dataframe\">\n  <thead>\n    <tr style=\"text-align: right;\">\n      <th></th>\n      <th>Image</th>\n      <th>Label</th>\n    </tr>\n  </thead>\n  <tbody>\n    <tr>\n      <th>249</th>\n      <td>data/stop/017e6c4c-2945-485f-9c1b-1d39f00c524e...</td>\n      <td>stop</td>\n    </tr>\n    <tr>\n      <th>433</th>\n      <td>data/right/062b0c5d-e05b-4b2e-9aab-2f098bb53cd...</td>\n      <td>right</td>\n    </tr>\n    <tr>\n      <th>19</th>\n      <td>data/backward/002e5485-87dd-4b79-a9ef-c6a1d723...</td>\n      <td>backward</td>\n    </tr>\n    <tr>\n      <th>322</th>\n      <td>data/left/03ac5380-8674-41da-844b-dc1946f04e3e...</td>\n      <td>left</td>\n    </tr>\n    <tr>\n      <th>332</th>\n      <td>data/left/00fecf4f-1823-4e02-ab34-c9fa6c6a79f5...</td>\n      <td>left</td>\n    </tr>\n    <tr>\n      <th>...</th>\n      <td>...</td>\n      <td>...</td>\n    </tr>\n    <tr>\n      <th>106</th>\n      <td>data/forward/00bea9e7-add1-4cc3-b4bc-bcf234966...</td>\n      <td>forward</td>\n    </tr>\n    <tr>\n      <th>270</th>\n      <td>data/stop/01340e0c-d05f-4459-b023-8afa3f3d5110...</td>\n      <td>stop</td>\n    </tr>\n    <tr>\n      <th>348</th>\n      <td>data/left/031d227a-7c95-499d-9e55-ade28d7e6f57...</td>\n      <td>left</td>\n    </tr>\n    <tr>\n      <th>435</th>\n      <td>data/right/0254066e-45c7-4f2c-a33f-c33f24f2d71...</td>\n      <td>right</td>\n    </tr>\n    <tr>\n      <th>102</th>\n      <td>data/forward/04a37951-611c-4404-bd5f-106c0bc25...</td>\n      <td>forward</td>\n    </tr>\n  </tbody>\n</table>\n<p>400 rows × 2 columns</p>\n</div>"
     },
     "execution_count": 9,
     "metadata": {},
     "output_type": "execute_result"
    }
   ],
   "source": [
    "train_gen"
   ],
   "metadata": {
    "collapsed": false,
    "pycharm": {
     "name": "#%%\n"
    }
   }
  },
  {
   "cell_type": "code",
   "execution_count": 10,
   "outputs": [
    {
     "data": {
      "text/plain": "                                                 Image     Label\n76   data/backward/05037a97-c299-434a-b31a-06ca099a...  backward\n155  data/forward/020cd45b-a632-4bd1-b769-c66c8806f...   forward\n30   data/backward/05b2befb-c601-421c-b8c6-aee1cdc6...  backward\n209  data/stop/0024e456-a8d2-4bd0-872b-77145141039b...      stop\n68   data/backward/012210d4-d9d4-423b-bb5a-d014c8e3...  backward\n455  data/right/02b06b98-5783-4a70-a3ad-fbe3ac627b0...     right\n377  data/left/00ac6dfd-4e4c-40ac-9a16-1f411b4bb7f6...      left\n79   data/backward/0323baad-9da9-4e82-afe7-70ce0fb6...  backward\n409  data/right/06a11bff-1ab9-4941-bf58-a6c1d9232f7...     right\n278  data/stop/01b1b4b5-6473-42fb-a68d-193da2923185...      stop\n148  data/forward/02f9cbb9-15bb-413e-a47d-ffc39189e...   forward\n15   data/backward/0598ef3e-2ea1-449a-9735-f4aa82d5...  backward\n193  data/forward/05e18863-138d-481c-9196-2806664dc...   forward\n185  data/forward/03ff19aa-ea35-49c4-bd6e-ab5e915da...   forward\n72   data/backward/00b957ea-701f-4315-bec3-d907da2f...  backward\n46   data/backward/03a5808e-789b-4e30-9f83-47c7ae74...  backward\n0    data/backward/06ca0e75-b6b4-4b97-9afe-a727b014...  backward\n238  data/stop/0115e737-7c43-4565-ad40-55f4fea7b6d1...      stop\n262  data/stop/014ef7eb-273d-4143-b77e-bbfd2bac0bf6...      stop\n75   data/backward/00a5fd8f-84e6-44df-ac84-f5bd4d4e...  backward\n465  data/right/0153a688-8dbf-4b2c-86a9-89f21a9ba27...     right\n93   data/backward/01c9313e-c0d5-446e-a454-3673d4bc...  backward\n204  data/stop/02b9bdf4-007d-4e5e-ae7e-f1b35edf7602...      stop\n415  data/right/02c295ab-548e-4339-8f1f-c54f6baaaca...     right\n438  data/right/00b5aa33-5c4c-4cbf-af40-79b9e9cfc1e...     right\n18   data/backward/01883f07-2dc8-4e88-b2da-01e7149b...  backward\n304  data/left/01f4e491-ac86-4659-8b69-4cefa315238f...      left\n440  data/right/003a238e-6ea2-48b0-ad4c-462f9dc655d...     right\n431  data/right/04d91ea6-4f5f-49ee-9138-e260a0dffa1...     right\n78   data/backward/0279a7d3-2be1-4e66-b8a2-18fc175f...  backward\n483  data/right/040dd323-4e5a-44db-9ceb-4e4b1ff58e6...     right\n321  data/left/05210ce0-ef4d-4f43-b832-35166e10b403...      left\n70   data/backward/05a52f6e-4e8e-4d02-891f-8ff3913d...  backward\n334  data/left/02eb1928-9836-4ca6-b8e4-7e793fb29d86...      left\n73   data/backward/00b64ffb-daf5-4e70-b28f-e837120a...  backward\n131  data/forward/04f86251-9ed7-4161-8fce-dc8d5d68d...   forward\n491  data/right/02a809c0-8c0a-4ded-8ac8-f72ed2b107a...     right\n374  data/left/0689a391-30c0-468c-8572-37f2d88d485f...      left\n356  data/left/05092e30-6f98-41f4-b2f6-e4da8278f8ef...      left\n414  data/right/06856d23-2213-461d-a504-b19c7ca1596...     right\n472  data/right/01cb61ac-5e2a-4c7a-ba0e-fa18197352f...     right\n317  data/left/06955f51-694b-49a4-8e83-8df3dc268c13...      left\n180  data/forward/062ba42e-035a-4088-adbd-bee3a08da...   forward\n477  data/right/018c4815-3f0d-47c2-905a-a72de9420e2...     right\n490  data/right/065fbc48-ff88-4d69-9716-c85b8eb4f34...     right\n494  data/right/05793ec6-d810-4795-ae03-a85bde5b29a...     right\n341  data/left/052370b7-c1d9-4607-a430-8c4234b2febd...      left\n371  data/left/04c6f15a-2c55-4d75-a015-dc8ac89c75f8...      left\n362  data/left/0298ab0c-df73-4ed5-aa95-5094b4c9bb4f...      left\n182  data/forward/04378653-b318-43e4-8934-c05b2dfdf...   forward",
      "text/html": "<div>\n<style scoped>\n    .dataframe tbody tr th:only-of-type {\n        vertical-align: middle;\n    }\n\n    .dataframe tbody tr th {\n        vertical-align: top;\n    }\n\n    .dataframe thead th {\n        text-align: right;\n    }\n</style>\n<table border=\"1\" class=\"dataframe\">\n  <thead>\n    <tr style=\"text-align: right;\">\n      <th></th>\n      <th>Image</th>\n      <th>Label</th>\n    </tr>\n  </thead>\n  <tbody>\n    <tr>\n      <th>76</th>\n      <td>data/backward/05037a97-c299-434a-b31a-06ca099a...</td>\n      <td>backward</td>\n    </tr>\n    <tr>\n      <th>155</th>\n      <td>data/forward/020cd45b-a632-4bd1-b769-c66c8806f...</td>\n      <td>forward</td>\n    </tr>\n    <tr>\n      <th>30</th>\n      <td>data/backward/05b2befb-c601-421c-b8c6-aee1cdc6...</td>\n      <td>backward</td>\n    </tr>\n    <tr>\n      <th>209</th>\n      <td>data/stop/0024e456-a8d2-4bd0-872b-77145141039b...</td>\n      <td>stop</td>\n    </tr>\n    <tr>\n      <th>68</th>\n      <td>data/backward/012210d4-d9d4-423b-bb5a-d014c8e3...</td>\n      <td>backward</td>\n    </tr>\n    <tr>\n      <th>455</th>\n      <td>data/right/02b06b98-5783-4a70-a3ad-fbe3ac627b0...</td>\n      <td>right</td>\n    </tr>\n    <tr>\n      <th>377</th>\n      <td>data/left/00ac6dfd-4e4c-40ac-9a16-1f411b4bb7f6...</td>\n      <td>left</td>\n    </tr>\n    <tr>\n      <th>79</th>\n      <td>data/backward/0323baad-9da9-4e82-afe7-70ce0fb6...</td>\n      <td>backward</td>\n    </tr>\n    <tr>\n      <th>409</th>\n      <td>data/right/06a11bff-1ab9-4941-bf58-a6c1d9232f7...</td>\n      <td>right</td>\n    </tr>\n    <tr>\n      <th>278</th>\n      <td>data/stop/01b1b4b5-6473-42fb-a68d-193da2923185...</td>\n      <td>stop</td>\n    </tr>\n    <tr>\n      <th>148</th>\n      <td>data/forward/02f9cbb9-15bb-413e-a47d-ffc39189e...</td>\n      <td>forward</td>\n    </tr>\n    <tr>\n      <th>15</th>\n      <td>data/backward/0598ef3e-2ea1-449a-9735-f4aa82d5...</td>\n      <td>backward</td>\n    </tr>\n    <tr>\n      <th>193</th>\n      <td>data/forward/05e18863-138d-481c-9196-2806664dc...</td>\n      <td>forward</td>\n    </tr>\n    <tr>\n      <th>185</th>\n      <td>data/forward/03ff19aa-ea35-49c4-bd6e-ab5e915da...</td>\n      <td>forward</td>\n    </tr>\n    <tr>\n      <th>72</th>\n      <td>data/backward/00b957ea-701f-4315-bec3-d907da2f...</td>\n      <td>backward</td>\n    </tr>\n    <tr>\n      <th>46</th>\n      <td>data/backward/03a5808e-789b-4e30-9f83-47c7ae74...</td>\n      <td>backward</td>\n    </tr>\n    <tr>\n      <th>0</th>\n      <td>data/backward/06ca0e75-b6b4-4b97-9afe-a727b014...</td>\n      <td>backward</td>\n    </tr>\n    <tr>\n      <th>238</th>\n      <td>data/stop/0115e737-7c43-4565-ad40-55f4fea7b6d1...</td>\n      <td>stop</td>\n    </tr>\n    <tr>\n      <th>262</th>\n      <td>data/stop/014ef7eb-273d-4143-b77e-bbfd2bac0bf6...</td>\n      <td>stop</td>\n    </tr>\n    <tr>\n      <th>75</th>\n      <td>data/backward/00a5fd8f-84e6-44df-ac84-f5bd4d4e...</td>\n      <td>backward</td>\n    </tr>\n    <tr>\n      <th>465</th>\n      <td>data/right/0153a688-8dbf-4b2c-86a9-89f21a9ba27...</td>\n      <td>right</td>\n    </tr>\n    <tr>\n      <th>93</th>\n      <td>data/backward/01c9313e-c0d5-446e-a454-3673d4bc...</td>\n      <td>backward</td>\n    </tr>\n    <tr>\n      <th>204</th>\n      <td>data/stop/02b9bdf4-007d-4e5e-ae7e-f1b35edf7602...</td>\n      <td>stop</td>\n    </tr>\n    <tr>\n      <th>415</th>\n      <td>data/right/02c295ab-548e-4339-8f1f-c54f6baaaca...</td>\n      <td>right</td>\n    </tr>\n    <tr>\n      <th>438</th>\n      <td>data/right/00b5aa33-5c4c-4cbf-af40-79b9e9cfc1e...</td>\n      <td>right</td>\n    </tr>\n    <tr>\n      <th>18</th>\n      <td>data/backward/01883f07-2dc8-4e88-b2da-01e7149b...</td>\n      <td>backward</td>\n    </tr>\n    <tr>\n      <th>304</th>\n      <td>data/left/01f4e491-ac86-4659-8b69-4cefa315238f...</td>\n      <td>left</td>\n    </tr>\n    <tr>\n      <th>440</th>\n      <td>data/right/003a238e-6ea2-48b0-ad4c-462f9dc655d...</td>\n      <td>right</td>\n    </tr>\n    <tr>\n      <th>431</th>\n      <td>data/right/04d91ea6-4f5f-49ee-9138-e260a0dffa1...</td>\n      <td>right</td>\n    </tr>\n    <tr>\n      <th>78</th>\n      <td>data/backward/0279a7d3-2be1-4e66-b8a2-18fc175f...</td>\n      <td>backward</td>\n    </tr>\n    <tr>\n      <th>483</th>\n      <td>data/right/040dd323-4e5a-44db-9ceb-4e4b1ff58e6...</td>\n      <td>right</td>\n    </tr>\n    <tr>\n      <th>321</th>\n      <td>data/left/05210ce0-ef4d-4f43-b832-35166e10b403...</td>\n      <td>left</td>\n    </tr>\n    <tr>\n      <th>70</th>\n      <td>data/backward/05a52f6e-4e8e-4d02-891f-8ff3913d...</td>\n      <td>backward</td>\n    </tr>\n    <tr>\n      <th>334</th>\n      <td>data/left/02eb1928-9836-4ca6-b8e4-7e793fb29d86...</td>\n      <td>left</td>\n    </tr>\n    <tr>\n      <th>73</th>\n      <td>data/backward/00b64ffb-daf5-4e70-b28f-e837120a...</td>\n      <td>backward</td>\n    </tr>\n    <tr>\n      <th>131</th>\n      <td>data/forward/04f86251-9ed7-4161-8fce-dc8d5d68d...</td>\n      <td>forward</td>\n    </tr>\n    <tr>\n      <th>491</th>\n      <td>data/right/02a809c0-8c0a-4ded-8ac8-f72ed2b107a...</td>\n      <td>right</td>\n    </tr>\n    <tr>\n      <th>374</th>\n      <td>data/left/0689a391-30c0-468c-8572-37f2d88d485f...</td>\n      <td>left</td>\n    </tr>\n    <tr>\n      <th>356</th>\n      <td>data/left/05092e30-6f98-41f4-b2f6-e4da8278f8ef...</td>\n      <td>left</td>\n    </tr>\n    <tr>\n      <th>414</th>\n      <td>data/right/06856d23-2213-461d-a504-b19c7ca1596...</td>\n      <td>right</td>\n    </tr>\n    <tr>\n      <th>472</th>\n      <td>data/right/01cb61ac-5e2a-4c7a-ba0e-fa18197352f...</td>\n      <td>right</td>\n    </tr>\n    <tr>\n      <th>317</th>\n      <td>data/left/06955f51-694b-49a4-8e83-8df3dc268c13...</td>\n      <td>left</td>\n    </tr>\n    <tr>\n      <th>180</th>\n      <td>data/forward/062ba42e-035a-4088-adbd-bee3a08da...</td>\n      <td>forward</td>\n    </tr>\n    <tr>\n      <th>477</th>\n      <td>data/right/018c4815-3f0d-47c2-905a-a72de9420e2...</td>\n      <td>right</td>\n    </tr>\n    <tr>\n      <th>490</th>\n      <td>data/right/065fbc48-ff88-4d69-9716-c85b8eb4f34...</td>\n      <td>right</td>\n    </tr>\n    <tr>\n      <th>494</th>\n      <td>data/right/05793ec6-d810-4795-ae03-a85bde5b29a...</td>\n      <td>right</td>\n    </tr>\n    <tr>\n      <th>341</th>\n      <td>data/left/052370b7-c1d9-4607-a430-8c4234b2febd...</td>\n      <td>left</td>\n    </tr>\n    <tr>\n      <th>371</th>\n      <td>data/left/04c6f15a-2c55-4d75-a015-dc8ac89c75f8...</td>\n      <td>left</td>\n    </tr>\n    <tr>\n      <th>362</th>\n      <td>data/left/0298ab0c-df73-4ed5-aa95-5094b4c9bb4f...</td>\n      <td>left</td>\n    </tr>\n    <tr>\n      <th>182</th>\n      <td>data/forward/04378653-b318-43e4-8934-c05b2dfdf...</td>\n      <td>forward</td>\n    </tr>\n  </tbody>\n</table>\n</div>"
     },
     "execution_count": 10,
     "metadata": {},
     "output_type": "execute_result"
    }
   ],
   "source": [
    "val_gen"
   ],
   "metadata": {
    "collapsed": false,
    "pycharm": {
     "name": "#%%\n"
    }
   }
  },
  {
   "cell_type": "code",
   "execution_count": 11,
   "outputs": [],
   "source": [
    "from tensorflow.keras.applications.resnet50 import preprocess_input"
   ],
   "metadata": {
    "collapsed": false,
    "pycharm": {
     "name": "#%%\n"
    }
   }
  },
  {
   "cell_type": "code",
   "execution_count": 12,
   "outputs": [],
   "source": [
    "#Create data generators\n",
    "train_data_gen = ImageDataGenerator(\n",
    "                               preprocessing_function=preprocess_input,\n",
    "                               rotation_range=15,\n",
    "                               width_shift_range=.2,\n",
    "                               height_shift_range=.2,\n",
    "                               horizontal_flip=True)\n",
    "val_data_gen =  ImageDataGenerator(preprocessing_function=preprocess_input)"
   ],
   "metadata": {
    "collapsed": false,
    "pycharm": {
     "name": "#%%\n"
    }
   }
  },
  {
   "cell_type": "code",
   "execution_count": 13,
   "outputs": [
    {
     "name": "stdout",
     "output_type": "stream",
     "text": [
      "Found 50 validated image filenames belonging to 5 classes.\n"
     ]
    }
   ],
   "source": [
    "test_datagen = ImageDataGenerator(preprocessing_function=preprocess_input)\n",
    "test_generator = test_datagen.flow_from_dataframe(\n",
    "    test_gen,\n",
    "    x_col='Image',\n",
    "    y_col = 'Label',\n",
    "    target_size = (224,244),\n",
    "    batch_size = 64,\n",
    "    shuffle = False,\n",
    "    class_mode='sparse',\n",
    "    validate_filenames=True\n",
    ")"
   ],
   "metadata": {
    "collapsed": false,
    "pycharm": {
     "name": "#%%\n"
    }
   }
  },
  {
   "cell_type": "code",
   "execution_count": 14,
   "outputs": [
    {
     "name": "stdout",
     "output_type": "stream",
     "text": [
      "Found 400 validated image filenames belonging to 5 classes.\n",
      "Found 50 validated image filenames belonging to 5 classes.\n"
     ]
    }
   ],
   "source": [
    "train_generator = train_data_gen.flow_from_dataframe(\n",
    "    train_gen,\n",
    "    x_col='Image',\n",
    "    y_col = 'Label',\n",
    "    target_size = (224,244),\n",
    "    batch_size = 64,\n",
    "    shuffle = True,\n",
    "    class_mode='sparse',\n",
    "    validate_filenames=True\n",
    ")\n",
    "val_generator = val_data_gen.flow_from_dataframe(\n",
    "    val_gen,\n",
    "    x_col='Image',\n",
    "    y_col = 'Label',\n",
    "    target_size = (224,244),\n",
    "    batch_size = 64,\n",
    "    shuffle = True,\n",
    "    class_mode='sparse',\n",
    "    validate_filenames=True\n",
    ")"
   ],
   "metadata": {
    "collapsed": false,
    "pycharm": {
     "name": "#%%\n"
    }
   }
  },
  {
   "cell_type": "markdown",
   "source": [
    "ResNet"
   ],
   "metadata": {
    "collapsed": false
   }
  },
  {
   "cell_type": "code",
   "execution_count": 15,
   "outputs": [],
   "source": [
    "from tensorflow.keras.applications import ResNet50\n",
    "from tensorflow.keras.models import Sequential\n",
    "from tensorflow.keras.layers import Dense,Flatten,Dropout, GlobalAveragePooling2D\n",
    "from tensorflow.keras.optimizers import Adam\n",
    "from tensorflow.keras.regularizers import l2,l1\n",
    "\n",
    "\n",
    "filepath = 'checkpoints/frozen.hdf5'\n",
    "checkpoint = tf.keras.callbacks.ModelCheckpoint(filepath=filepath,\n",
    "                                                 monitor='val_accuracy',\n",
    "                                                save_best_only=True,\n",
    "                                                 verbose=1,\n",
    "                                                mode='max')\n",
    "early_stop = tf.keras.callbacks.EarlyStopping(\n",
    "    monitor='val_accuracy',\n",
    "    min_delta=0,\n",
    "    patience=3,\n",
    "    verbose=0,\n",
    "    mode='auto',\n",
    "    baseline=None,\n",
    "    restore_best_weights=True,\n",
    ")\n",
    "callbacks = [checkpoint,early_stop]"
   ],
   "metadata": {
    "collapsed": false,
    "pycharm": {
     "name": "#%%\n"
    }
   }
  },
  {
   "cell_type": "code",
   "execution_count": 16,
   "outputs": [
    {
     "name": "stderr",
     "output_type": "stream",
     "text": [
      "2023-04-28 00:08:29.654269: I tensorflow/core/platform/cpu_feature_guard.cc:193] This TensorFlow binary is optimized with oneAPI Deep Neural Network Library (oneDNN) to use the following CPU instructions in performance-critical operations:  AVX2 FMA\n",
      "To enable them in other operations, rebuild TensorFlow with the appropriate compiler flags.\n",
      "2023-04-28 00:08:29.655286: I tensorflow/stream_executor/cuda/cuda_gpu_executor.cc:975] successful NUMA node read from SysFS had negative value (-1), but there must be at least one NUMA node, so returning NUMA node zero\n",
      "2023-04-28 00:08:29.662584: I tensorflow/stream_executor/cuda/cuda_gpu_executor.cc:975] successful NUMA node read from SysFS had negative value (-1), but there must be at least one NUMA node, so returning NUMA node zero\n",
      "2023-04-28 00:08:29.662702: I tensorflow/stream_executor/cuda/cuda_gpu_executor.cc:975] successful NUMA node read from SysFS had negative value (-1), but there must be at least one NUMA node, so returning NUMA node zero\n",
      "2023-04-28 00:08:30.125821: I tensorflow/stream_executor/cuda/cuda_gpu_executor.cc:975] successful NUMA node read from SysFS had negative value (-1), but there must be at least one NUMA node, so returning NUMA node zero\n",
      "2023-04-28 00:08:30.125970: I tensorflow/stream_executor/cuda/cuda_gpu_executor.cc:975] successful NUMA node read from SysFS had negative value (-1), but there must be at least one NUMA node, so returning NUMA node zero\n",
      "2023-04-28 00:08:30.126083: I tensorflow/stream_executor/cuda/cuda_gpu_executor.cc:975] successful NUMA node read from SysFS had negative value (-1), but there must be at least one NUMA node, so returning NUMA node zero\n",
      "2023-04-28 00:08:30.126176: I tensorflow/core/common_runtime/gpu/gpu_device.cc:1532] Created device /job:localhost/replica:0/task:0/device:GPU:0 with 21527 MB memory:  -> device: 0, name: NVIDIA GeForce RTX 4090, pci bus id: 0000:08:00.0, compute capability: 8.9\n"
     ]
    }
   ],
   "source": [
    "def create_model(drop_out=.1,neurons=256):\n",
    "    resnet = ResNet50(include_top=False,weights='imagenet', pooling='avg')\n",
    "    model = Sequential()\n",
    "    model.add(resnet)\n",
    "    model.add(Dropout(drop_out))\n",
    "    model.add(Dense(5,activation='softmax'))\n",
    "    return model\n",
    "\n",
    "model = create_model(drop_out=.4)\n",
    "model.compile(optimizer=Adam(learning_rate=0.001,decay=0.1),\n",
    "              loss='sparse_categorical_crossentropy',\n",
    "              metrics=['accuracy'])"
   ],
   "metadata": {
    "collapsed": false,
    "pycharm": {
     "name": "#%%\n"
    }
   }
  },
  {
   "cell_type": "code",
   "execution_count": 17,
   "outputs": [
    {
     "name": "stdout",
     "output_type": "stream",
     "text": [
      "Epoch 1/50\n"
     ]
    },
    {
     "name": "stderr",
     "output_type": "stream",
     "text": [
      "2023-04-28 00:08:39.330773: I tensorflow/stream_executor/cuda/cuda_dnn.cc:384] Loaded cuDNN version 8100\n",
      "2023-04-28 00:08:39.939287: I tensorflow/core/platform/default/subprocess.cc:304] Start cannot spawn child process: No such file or directory\n",
      "2023-04-28 00:08:39.939681: I tensorflow/core/platform/default/subprocess.cc:304] Start cannot spawn child process: No such file or directory\n",
      "2023-04-28 00:08:39.939693: W tensorflow/stream_executor/gpu/asm_compiler.cc:80] Couldn't get ptxas version string: INTERNAL: Couldn't invoke ptxas --version\n",
      "2023-04-28 00:08:39.940091: I tensorflow/core/platform/default/subprocess.cc:304] Start cannot spawn child process: No such file or directory\n",
      "2023-04-28 00:08:39.940131: W tensorflow/stream_executor/gpu/redzone_allocator.cc:314] INTERNAL: Failed to launch ptxas\n",
      "Relying on driver to perform ptx compilation. \n",
      "Modify $PATH to customize ptxas location.\n",
      "This message will be only logged once.\n",
      "2023-04-28 00:08:41.152081: I tensorflow/stream_executor/cuda/cuda_blas.cc:1786] TensorFloat-32 will be used for the matrix multiplication. This will only be logged once.\n"
     ]
    },
    {
     "name": "stdout",
     "output_type": "stream",
     "text": [
      "7/7 [==============================] - ETA: 0s - loss: 1.9787 - accuracy: 0.3050\n",
      "Epoch 1: val_accuracy improved from -inf to 0.20000, saving model to checkpoints/frozen.hdf5\n",
      "7/7 [==============================] - 25s 3s/step - loss: 1.9787 - accuracy: 0.3050 - val_loss: 4.8805 - val_accuracy: 0.2000\n",
      "Epoch 2/50\n",
      "7/7 [==============================] - ETA: 0s - loss: 1.1587 - accuracy: 0.5650\n",
      "Epoch 2: val_accuracy improved from 0.20000 to 0.32000, saving model to checkpoints/frozen.hdf5\n",
      "7/7 [==============================] - 19s 3s/step - loss: 1.1587 - accuracy: 0.5650 - val_loss: 2.7405 - val_accuracy: 0.3200\n",
      "Epoch 3/50\n",
      "7/7 [==============================] - ETA: 0s - loss: 0.9824 - accuracy: 0.6600\n",
      "Epoch 3: val_accuracy did not improve from 0.32000\n",
      "7/7 [==============================] - 16s 2s/step - loss: 0.9824 - accuracy: 0.6600 - val_loss: 2.8771 - val_accuracy: 0.2400\n",
      "Epoch 4/50\n",
      "7/7 [==============================] - ETA: 0s - loss: 0.6748 - accuracy: 0.7625\n",
      "Epoch 4: val_accuracy did not improve from 0.32000\n",
      "7/7 [==============================] - 17s 2s/step - loss: 0.6748 - accuracy: 0.7625 - val_loss: 2.2804 - val_accuracy: 0.2600\n",
      "Epoch 5/50\n",
      "7/7 [==============================] - ETA: 0s - loss: 0.5521 - accuracy: 0.8100\n",
      "Epoch 5: val_accuracy improved from 0.32000 to 0.34000, saving model to checkpoints/frozen.hdf5\n",
      "7/7 [==============================] - 18s 3s/step - loss: 0.5521 - accuracy: 0.8100 - val_loss: 1.7827 - val_accuracy: 0.3400\n",
      "Epoch 6/50\n",
      "7/7 [==============================] - ETA: 0s - loss: 0.3577 - accuracy: 0.8775\n",
      "Epoch 6: val_accuracy improved from 0.34000 to 0.42000, saving model to checkpoints/frozen.hdf5\n",
      "7/7 [==============================] - 19s 3s/step - loss: 0.3577 - accuracy: 0.8775 - val_loss: 1.7920 - val_accuracy: 0.4200\n",
      "Epoch 7/50\n",
      "7/7 [==============================] - ETA: 0s - loss: 0.2447 - accuracy: 0.9275\n",
      "Epoch 7: val_accuracy improved from 0.42000 to 0.50000, saving model to checkpoints/frozen.hdf5\n",
      "7/7 [==============================] - 18s 3s/step - loss: 0.2447 - accuracy: 0.9275 - val_loss: 2.4218 - val_accuracy: 0.5000\n",
      "Epoch 8/50\n",
      "7/7 [==============================] - ETA: 0s - loss: 0.2055 - accuracy: 0.9500\n",
      "Epoch 8: val_accuracy improved from 0.50000 to 0.54000, saving model to checkpoints/frozen.hdf5\n",
      "7/7 [==============================] - 18s 3s/step - loss: 0.2055 - accuracy: 0.9500 - val_loss: 2.5661 - val_accuracy: 0.5400\n",
      "Epoch 9/50\n",
      "7/7 [==============================] - ETA: 0s - loss: 0.1443 - accuracy: 0.9625\n",
      "Epoch 9: val_accuracy improved from 0.54000 to 0.60000, saving model to checkpoints/frozen.hdf5\n",
      "7/7 [==============================] - 19s 3s/step - loss: 0.1443 - accuracy: 0.9625 - val_loss: 2.0589 - val_accuracy: 0.6000\n",
      "Epoch 10/50\n",
      "7/7 [==============================] - ETA: 0s - loss: 0.1174 - accuracy: 0.9700\n",
      "Epoch 10: val_accuracy improved from 0.60000 to 0.62000, saving model to checkpoints/frozen.hdf5\n",
      "7/7 [==============================] - 19s 3s/step - loss: 0.1174 - accuracy: 0.9700 - val_loss: 2.1512 - val_accuracy: 0.6200\n",
      "Epoch 11/50\n",
      "7/7 [==============================] - ETA: 0s - loss: 0.0977 - accuracy: 0.9725\n",
      "Epoch 11: val_accuracy did not improve from 0.62000\n",
      "7/7 [==============================] - 16s 2s/step - loss: 0.0977 - accuracy: 0.9725 - val_loss: 2.0052 - val_accuracy: 0.6200\n",
      "Epoch 12/50\n",
      "7/7 [==============================] - ETA: 0s - loss: 0.0706 - accuracy: 0.9800\n",
      "Epoch 12: val_accuracy did not improve from 0.62000\n",
      "7/7 [==============================] - 16s 2s/step - loss: 0.0706 - accuracy: 0.9800 - val_loss: 2.3007 - val_accuracy: 0.6200\n",
      "Epoch 13/50\n",
      "7/7 [==============================] - ETA: 0s - loss: 0.0737 - accuracy: 0.9775\n",
      "Epoch 13: val_accuracy improved from 0.62000 to 0.66000, saving model to checkpoints/frozen.hdf5\n",
      "7/7 [==============================] - 19s 3s/step - loss: 0.0737 - accuracy: 0.9775 - val_loss: 2.3297 - val_accuracy: 0.6600\n",
      "Epoch 14/50\n",
      "7/7 [==============================] - ETA: 0s - loss: 0.0723 - accuracy: 0.9800\n",
      "Epoch 14: val_accuracy did not improve from 0.66000\n",
      "7/7 [==============================] - 16s 2s/step - loss: 0.0723 - accuracy: 0.9800 - val_loss: 2.6053 - val_accuracy: 0.6600\n",
      "Epoch 15/50\n",
      "7/7 [==============================] - ETA: 0s - loss: 0.0652 - accuracy: 0.9825\n",
      "Epoch 15: val_accuracy did not improve from 0.66000\n",
      "7/7 [==============================] - 16s 2s/step - loss: 0.0652 - accuracy: 0.9825 - val_loss: 2.1510 - val_accuracy: 0.6200\n",
      "Epoch 16/50\n",
      "7/7 [==============================] - ETA: 0s - loss: 0.0360 - accuracy: 0.9950\n",
      "Epoch 16: val_accuracy did not improve from 0.66000\n",
      "7/7 [==============================] - 17s 2s/step - loss: 0.0360 - accuracy: 0.9950 - val_loss: 1.8676 - val_accuracy: 0.6200\n"
     ]
    }
   ],
   "source": [
    "history = model.fit(\n",
    "    train_generator,\n",
    "    epochs=50,\n",
    "    validation_data=val_generator,\n",
    "    callbacks=callbacks)"
   ],
   "metadata": {
    "collapsed": false,
    "pycharm": {
     "name": "#%%\n"
    }
   }
  },
  {
   "cell_type": "code",
   "execution_count": 18,
   "outputs": [],
   "source": [
    "from keras.models import load_model\n",
    "model = load_model('checkpoints/frozen.hdf5')"
   ],
   "metadata": {
    "collapsed": false,
    "pycharm": {
     "name": "#%%\n"
    }
   }
  },
  {
   "cell_type": "code",
   "execution_count": 19,
   "outputs": [],
   "source": [
    "for layer in model.layers:\n",
    "  layer.trainable =  True"
   ],
   "metadata": {
    "collapsed": false,
    "pycharm": {
     "name": "#%%\n"
    }
   }
  },
  {
   "cell_type": "code",
   "execution_count": 19,
   "outputs": [],
   "source": [],
   "metadata": {
    "collapsed": false,
    "pycharm": {
     "name": "#%%\n"
    }
   }
  },
  {
   "cell_type": "code",
   "execution_count": 20,
   "outputs": [
    {
     "data": {
      "text/plain": "[<keras.engine.functional.Functional at 0x7f81b42f5a90>,\n <keras.layers.regularization.dropout.Dropout at 0x7f81b476a970>,\n <keras.layers.core.dense.Dense at 0x7f81b45111c0>]"
     },
     "execution_count": 20,
     "metadata": {},
     "output_type": "execute_result"
    }
   ],
   "source": [
    "model.layers"
   ],
   "metadata": {
    "collapsed": false,
    "pycharm": {
     "name": "#%%\n"
    }
   }
  },
  {
   "cell_type": "code",
   "execution_count": 21,
   "outputs": [],
   "source": [
    "filepath = 'checkpoints/finetuned2.hdf5'\n",
    "checkpoint = tf.keras.callbacks.ModelCheckpoint(filepath=filepath,\n",
    "                                                 monitor='val_accuracy',\n",
    "                                                save_best_only=True,\n",
    "                                                 verbose=1,\n",
    "                                                mode='max')\n",
    "early_stop = tf.keras.callbacks.EarlyStopping(\n",
    "    monitor='val_accuracy',\n",
    "    min_delta=0,\n",
    "    patience=3,\n",
    "    verbose=0,\n",
    "    mode='auto',\n",
    "    baseline=None,\n",
    "    restore_best_weights=True,\n",
    ")\n",
    "callbacks = [checkpoint,early_stop]"
   ],
   "metadata": {
    "collapsed": false,
    "pycharm": {
     "name": "#%%\n"
    }
   }
  },
  {
   "cell_type": "code",
   "execution_count": 22,
   "outputs": [],
   "source": [
    "model.compile(optimizer=Adam(learning_rate=0.0001,decay=0.1),\n",
    "              loss='sparse_categorical_crossentropy',\n",
    "              metrics=['accuracy'])"
   ],
   "metadata": {
    "collapsed": false,
    "pycharm": {
     "name": "#%%\n"
    }
   }
  },
  {
   "cell_type": "code",
   "execution_count": 23,
   "outputs": [
    {
     "name": "stdout",
     "output_type": "stream",
     "text": [
      "Epoch 1/50\n",
      "7/7 [==============================] - ETA: 0s - loss: 0.0939 - accuracy: 0.9775\n",
      "Epoch 1: val_accuracy improved from -inf to 0.64000, saving model to checkpoints/finetuned2.hdf5\n",
      "7/7 [==============================] - 23s 3s/step - loss: 0.0939 - accuracy: 0.9775 - val_loss: 2.0278 - val_accuracy: 0.6400\n",
      "Epoch 2/50\n",
      "7/7 [==============================] - ETA: 0s - loss: 0.0547 - accuracy: 0.9850\n",
      "Epoch 2: val_accuracy did not improve from 0.64000\n",
      "7/7 [==============================] - 17s 2s/step - loss: 0.0547 - accuracy: 0.9850 - val_loss: 2.3860 - val_accuracy: 0.6400\n",
      "Epoch 3/50\n",
      "7/7 [==============================] - ETA: 0s - loss: 0.0513 - accuracy: 0.9875\n",
      "Epoch 3: val_accuracy did not improve from 0.64000\n",
      "7/7 [==============================] - 16s 2s/step - loss: 0.0513 - accuracy: 0.9875 - val_loss: 2.4074 - val_accuracy: 0.6400\n",
      "Epoch 4/50\n",
      "7/7 [==============================] - ETA: 0s - loss: 0.0500 - accuracy: 0.9875\n",
      "Epoch 4: val_accuracy improved from 0.64000 to 0.68000, saving model to checkpoints/finetuned2.hdf5\n",
      "7/7 [==============================] - 19s 3s/step - loss: 0.0500 - accuracy: 0.9875 - val_loss: 2.3893 - val_accuracy: 0.6800\n",
      "Epoch 5/50\n",
      "7/7 [==============================] - ETA: 0s - loss: 0.0231 - accuracy: 0.9975\n",
      "Epoch 5: val_accuracy did not improve from 0.68000\n",
      "7/7 [==============================] - 17s 2s/step - loss: 0.0231 - accuracy: 0.9975 - val_loss: 2.3608 - val_accuracy: 0.6800\n",
      "Epoch 6/50\n",
      "7/7 [==============================] - ETA: 0s - loss: 0.0267 - accuracy: 0.9975\n",
      "Epoch 6: val_accuracy did not improve from 0.68000\n",
      "7/7 [==============================] - 16s 2s/step - loss: 0.0267 - accuracy: 0.9975 - val_loss: 2.3057 - val_accuracy: 0.6800\n",
      "Epoch 7/50\n",
      "7/7 [==============================] - ETA: 0s - loss: 0.0333 - accuracy: 0.9950\n",
      "Epoch 7: val_accuracy did not improve from 0.68000\n",
      "7/7 [==============================] - 17s 2s/step - loss: 0.0333 - accuracy: 0.9950 - val_loss: 2.2269 - val_accuracy: 0.6800\n"
     ]
    }
   ],
   "source": [
    "history2 = model.fit(\n",
    "    train_generator,\n",
    "    epochs=50,\n",
    "    validation_data=val_generator,\n",
    "    callbacks=callbacks)"
   ],
   "metadata": {
    "collapsed": false,
    "pycharm": {
     "name": "#%%\n"
    }
   }
  },
  {
   "cell_type": "markdown",
   "source": [],
   "metadata": {
    "collapsed": false,
    "pycharm": {
     "name": "#%% md\n"
    }
   }
  },
  {
   "cell_type": "code",
   "execution_count": 24,
   "outputs": [],
   "source": [
    "model = load_model('checkpoints/finetuned2.hdf5')"
   ],
   "metadata": {
    "collapsed": false,
    "pycharm": {
     "name": "#%%\n"
    }
   }
  },
  {
   "cell_type": "code",
   "execution_count": 25,
   "outputs": [
    {
     "name": "stdout",
     "output_type": "stream",
     "text": [
      "1/1 [==============================] - 2s 2s/step\n",
      "              precision    recall  f1-score   support\n",
      "\n",
      "    backward       1.00      0.57      0.73        14\n",
      "     forward       0.35      0.86      0.50         7\n",
      "        stop       1.00      0.50      0.67        14\n",
      "        left       0.47      0.70      0.56        10\n",
      "       right       0.67      0.40      0.50         5\n",
      "\n",
      "    accuracy                           0.60        50\n",
      "   macro avg       0.70      0.61      0.59        50\n",
      "weighted avg       0.77      0.60      0.62        50\n",
      "\n"
     ]
    }
   ],
   "source": [
    "pred = model.predict(test_generator)\n",
    "pred = np.argmax(pred,axis=1)\n",
    "print(classification_report(test_generator.classes,pred,target_names= label_list))"
   ],
   "metadata": {
    "collapsed": false,
    "pycharm": {
     "name": "#%%\n"
    }
   }
  },
  {
   "cell_type": "code",
   "execution_count": 25,
   "outputs": [],
   "source": [],
   "metadata": {
    "collapsed": false,
    "pycharm": {
     "name": "#%%\n"
    }
   }
  }
 ],
 "metadata": {
  "kernelspec": {
   "display_name": "Python 3",
   "language": "python",
   "name": "python3"
  },
  "language_info": {
   "codemirror_mode": {
    "name": "ipython",
    "version": 2
   },
   "file_extension": ".py",
   "mimetype": "text/x-python",
   "name": "python",
   "nbconvert_exporter": "python",
   "pygments_lexer": "ipython2",
   "version": "2.7.6"
  }
 },
 "nbformat": 4,
 "nbformat_minor": 0
}